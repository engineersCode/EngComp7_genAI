{
 "cells": [
  {
   "cell_type": "raw",
   "id": "230f9873-0c40-418d-8758-598b87d28c91",
   "metadata": {},
   "source": [
    "Content under Creative Commons Attribution license CC-BY 4.0, code under BSD 3-Clause License © 2023 Lorena A. Barba"
   ]
  },
  {
   "cell_type": "markdown",
   "id": "91e2b570-ef68-4947-a69f-d9630f7efd26",
   "metadata": {},
   "source": [
    "# Generate Learning Objectives for MAE courses with AI\n",
    "\n",
    "This is a demonstration of the capabilities of generative AI for producing a set of learning objectives for each course of the GW Mechanical and Aerospace Engineering department, based on the brief descriptions listed on the [course bulletin](https://bulletin.gwu.edu/courses/mae/).\n",
    "\n",
    "Of course, this demo is not intended to suggest that course learning objectives _should_ be auto-generated. It is only meant to showcase the capability, and spark the imagination of readers to the possibilities of highly productive human-AI collaboration in curriculum-development tasks.\n",
    "\n",
    "# Get the MAE Bulletin and extract course descriptions\n",
    "\n",
    "Find the text data used in this demo via the short URL: [go.gwu.edu/engcomp1data3](https://go.gwu.edu/engcomp1data3).\n",
    "To download a file from the internet, we need a function from an external library. Then we grab the file and save it locally. The code needed is:\n",
    "\n",
    "```python\n",
    "from urllib.request import urlretrieve\n",
    "URL = 'https://go.gwu.edu/engcomp1data3'\n",
    "filename = 'mae_bulletin.txt'\n",
    "urlretrieve(URL, filename)\n",
    "```\n",
    "</br>\n",
    "\n",
    "Once you have the file with the raw data, the next steps are: \n",
    "\n",
    "- _open_ the file \"mae_bulletin.txt\"\n",
    "- _read_ the contents into a big string variable\n",
    "- play with the text to organize it the way we want"
   ]
  },
  {
   "cell_type": "code",
   "execution_count": 1,
   "id": "0aac62ec-1b59-4706-8d9a-cd8731fdf49c",
   "metadata": {},
   "outputs": [
    {
     "data": {
      "text/plain": [
       "['MAE 1004. Engineering Drawing and Computer Graphics. 0-3 Credits.\\n',\n",
       " '\\n',\n",
       " 'Introduction to technical drawing, including use of instruments, lettering, geometric construction, sketching, orthographic projection, section view, dimensioning, tolerancing, and pictorial drawing. Introduction to computer graphics, including topics covered in manual drawing and computer-aided drafting.   (Fall and spring).\\n',\n",
       " '\\n',\n",
       " 'MAE 2117. Engineering Computations. 3 Credits.\\n']"
      ]
     },
     "execution_count": 1,
     "metadata": {},
     "output_type": "execute_result"
    }
   ],
   "source": [
    "mae_bulletin_file = open('mae_bulletin.txt')\n",
    "mae_bulletin_text = mae_bulletin_file.readlines()\n",
    "mae_bulletin_text[0:5]"
   ]
  },
  {
   "cell_type": "markdown",
   "id": "a4982308-4bd0-4ba9-94eb-4d7210991039",
   "metadata": {},
   "source": [
    "We have one big list of lines of text. Next, we want to:\n",
    "\n",
    "- skip empty lines\n",
    "- grab the course ID and the course descriptions into new lists"
   ]
  },
  {
   "cell_type": "code",
   "execution_count": 2,
   "id": "0d938868-092c-4a78-9d1c-696f6ee59901",
   "metadata": {},
   "outputs": [],
   "source": [
    "courses = []\n",
    "descriptions = []\n",
    "\n",
    "for line in mae_bulletin_text:\n",
    "    line = line.strip()\n",
    "    if line == '':\n",
    "        continue\n",
    "    elif line.startswith('MAE'):\n",
    "        courses.append(line)\n",
    "    else:\n",
    "        descriptions.append(line)"
   ]
  },
  {
   "cell_type": "code",
   "execution_count": 3,
   "id": "b329bc11-7782-42e5-a5f2-57b37334c29d",
   "metadata": {},
   "outputs": [
    {
     "data": {
      "text/plain": [
       "'Introduction to technical drawing, including use of instruments, lettering, geometric construction, sketching, orthographic projection, section view, dimensioning, tolerancing, and pictorial drawing. Introduction to computer graphics, including topics covered in manual drawing and computer-aided drafting.   (Fall and spring).'"
      ]
     },
     "execution_count": 3,
     "metadata": {},
     "output_type": "execute_result"
    }
   ],
   "source": [
    "descriptions[0]"
   ]
  },
  {
   "cell_type": "markdown",
   "id": "5cec6160-26a7-4322-a95a-b8d2b624bf7a",
   "metadata": {},
   "source": [
    "Put course ID, title and number of credits into separate lists."
   ]
  },
  {
   "cell_type": "code",
   "execution_count": 4,
   "id": "d40a2392-f0ce-4004-8439-0aa9ea565683",
   "metadata": {},
   "outputs": [],
   "source": [
    "course_id = []\n",
    "course_title = []\n",
    "course_credits = []\n",
    "\n",
    "for course in courses:\n",
    "    course_info = course.split('. ')\n",
    "    course_id.append(course_info[0])\n",
    "    course_title.append(course_info[1])\n",
    "    course_credits.append(course_info[2])"
   ]
  },
  {
   "cell_type": "markdown",
   "id": "2ddd00a6-3e26-4b0e-9e1f-136aff3da301",
   "metadata": {},
   "source": [
    "# Use GPT-3.5 to generate learning objectives based on the descriptions\n",
    "\n",
    "We will use the Jupyter AI library, with the Open AI provider."
   ]
  },
  {
   "cell_type": "code",
   "execution_count": 5,
   "id": "0b472b30-9698-4af3-95a4-33327c125911",
   "metadata": {},
   "outputs": [],
   "source": [
    "import os\n",
    "os.environ['OPENAI_API_KEY'] = 'deleted' #DELETE!!!"
   ]
  },
  {
   "cell_type": "code",
   "execution_count": 6,
   "id": "891aa3b3-2d3f-477c-b63c-503e0d29321d",
   "metadata": {},
   "outputs": [],
   "source": [
    "%load_ext jupyter_ai"
   ]
  },
  {
   "cell_type": "code",
   "execution_count": 7,
   "id": "df1602cd-b9e2-4469-bda2-70893fe3f228",
   "metadata": {},
   "outputs": [
    {
     "name": "stdout",
     "output_type": "stream",
     "text": [
      "You are an instructional designer, with ample experience working with faculty to improve their course syllabi and content. I will give you brief course descriptions, delimited by three quotes ('''). You will provide a numbered list of between 5 and 7 learning objectives on the basis of the course description, grounded by best practices in backward course design, like using adequate action verbs. Do not give the list a title or heading, and do not explain.\n"
     ]
    }
   ],
   "source": [
    "system_prompt = \"You are an instructional designer, with ample experience working with faculty to improve their course syllabi and content. I will give you brief course descriptions, delimited by three quotes ('''). You will provide a numbered list of between 5 and 7 learning objectives on the basis of the course description, grounded by best practices in backward course design, like using adequate action verbs. Do not give the list a title or heading, and do not explain.\"\n",
    "print(system_prompt)"
   ]
  },
  {
   "cell_type": "markdown",
   "id": "f605af5e-ebe8-4d3f-b66d-40daee0246e4",
   "metadata": {},
   "source": [
    "Above, we save a \"system prompt\" into a string variable. Next, we will try the call to GPT-3.5 using the system prompt and the course title and description for the first item in our course list."
   ]
  },
  {
   "cell_type": "code",
   "execution_count": 8,
   "id": "5a1dd186-7c06-400b-8061-5b9f71bb6cdb",
   "metadata": {},
   "outputs": [],
   "source": [
    "text = course_title[0] + descriptions[0]"
   ]
  },
  {
   "cell_type": "code",
   "execution_count": 9,
   "id": "dd51f747-ce1b-4d97-be1e-6d70cece6af1",
   "metadata": {},
   "outputs": [
    {
     "data": {
      "text/markdown": [
       "- Demonstrate knowledge of technical drawing instruments and their correct usage.\n",
       "- Apply proper lettering techniques in technical drawings.\n",
       "- Create accurate geometric constructions using specified methods.\n",
       "- Generate sketches that effectively communicate design concepts.\n",
       "- Interpret and create orthographic projections of 3D objects.\n",
       "- Construct section views of 3D objects based on given specifications.\n",
       "- Apply appropriate dimensioning and tolerancing principles in technical drawings.\n",
       "- Utilize computer-aided drafting software to create and modify technical drawings."
      ],
      "text/plain": [
       "<IPython.core.display.Markdown object>"
      ]
     },
     "execution_count": 9,
     "metadata": {
      "text/markdown": {
       "jupyter_ai": {
        "model_id": "gpt-3.5-turbo",
        "provider_id": "openai-chat"
       }
      }
     },
     "output_type": "execute_result"
    }
   ],
   "source": [
    "%%ai openai-chat:gpt-3.5-turbo\n",
    "{system_prompt} \n",
    "''' {text} '''"
   ]
  },
  {
   "cell_type": "markdown",
   "id": "86e3a4bb-6593-40d2-8ed0-dea21640e126",
   "metadata": {},
   "source": [
    "Above, GPT generated a set of learning objectives for the first course in our list, using the `%%ai` cell magic. We would like to get objectives for _all_ the courses this way.\n",
    "\n",
    "To run a cell magic repeatedly in a loop, we can use the `get_ipython().run_cell_magic()` command. The syntax is:\n",
    "\n",
    "```python\n",
    "get_ipython().run_cell_magic(magic_name, line, cell)\n",
    "```\n",
    "</br>\n",
    "where:\n",
    "\n",
    "- `magic_name` is the name of the desired cell magic, without the `%%` prefix. For example, `'timeit`, `'bash'`, etc. This is a required argument.\n",
    "- `line` is the rest of the first input line as a single string. This is where you can pass any arguments or options to the cell magic. For example, `-n 10 -r 5`, `-l`, etc. This is an optional argument, and it can be left as an empty string (`''`) if no arguments or options are needed.\n",
    "- `cell` is the body of the cell as a (possibly multiline) string. This is where you write the code that you want to run with the cell magic. For example, `x = 2 + 2`, `echo \"Hello world!\"`, etc. This is a required argument."
   ]
  },
  {
   "cell_type": "code",
   "execution_count": 10,
   "id": "a22792b3-5aaa-41b6-a029-e7ab92cda13d",
   "metadata": {},
   "outputs": [
    {
     "data": {
      "text/markdown": [
       "- Identify and use various technical drawing instruments appropriately.\n",
       "- Demonstrate proficiency in effective lettering techniques for technical drawings.\n",
       "- Apply geometric construction methods accurately in technical drawings.\n",
       "- Create sketches that effectively communicate design concepts and ideas.\n",
       "- Generate orthographic projections and section views of three-dimensional objects accurately.\n",
       "- Apply dimensioning and tolerancing principles correctly in technical drawings.\n",
       "- Utilize computer-aided drafting software to create, modify, and enhance technical drawings."
      ],
      "text/plain": [
       "<IPython.core.display.Markdown object>"
      ]
     },
     "execution_count": 10,
     "metadata": {
      "text/markdown": {
       "jupyter_ai": {
        "model_id": "gpt-3.5-turbo",
        "provider_id": "openai-chat"
       }
      }
     },
     "output_type": "execute_result"
    }
   ],
   "source": [
    "get_ipython().run_cell_magic('ai', 'chatgpt', \"{system_prompt}\\n ''' {text}'''\")"
   ]
  },
  {
   "cell_type": "code",
   "execution_count": 11,
   "id": "f5ff0639-4571-450c-b226-6266572ffcc2",
   "metadata": {},
   "outputs": [
    {
     "data": {
      "text/plain": [
       "108"
      ]
     },
     "execution_count": 11,
     "metadata": {},
     "output_type": "execute_result"
    }
   ],
   "source": [
    "len(descriptions)"
   ]
  },
  {
   "cell_type": "markdown",
   "id": "a38e841f-cf55-44cd-8a12-fcff3d982f8b",
   "metadata": {},
   "source": [
    "We have 108 courses to work with, so it would be very tedious to generate learning objectives by hand for each course. We'd like to do it in a loop.\n",
    "\n",
    "As a test, let's try a very short loop that calls the `%%timeit` cell magic in each iteration:"
   ]
  },
  {
   "cell_type": "code",
   "execution_count": 12,
   "id": "92dfe8e1-aafa-4d8d-b790-93a2a385b43a",
   "metadata": {},
   "outputs": [
    {
     "name": "stdout",
     "output_type": "stream",
     "text": [
      "49.9 ns ± 6.06 ns per loop (mean ± std. dev. of 7 runs, 10,000,000 loops each)\n",
      "49.4 ns ± 6.54 ns per loop (mean ± std. dev. of 7 runs, 10,000,000 loops each)\n",
      "39 ns ± 6.8 ns per loop (mean ± std. dev. of 7 runs, 10,000,000 loops each)\n"
     ]
    }
   ],
   "source": [
    "# This is a loop that runs the %%timeit magic on some code\n",
    "for i in range(3):\n",
    "    get_ipython().run_cell_magic('timeit', '', 'x = i + i')"
   ]
  },
  {
   "cell_type": "markdown",
   "id": "11174aa8-7487-4491-b060-34f77bde8e4a",
   "metadata": {},
   "source": [
    "Great. Now I'd like to save the output of each call to `get_ipython().run_cell_magic()` into a file. One possible way to save the output of each call into a file is to use the [`%%capture`](http://ipython.readthedocs.io/en/stable/interactive/magics.html#cellmagic-capture) cell magic. We need to give it the name of the variable in which to store output. Since we will call it in a loop, this magic also has to be enclosed in the `get_ipython().run_cell_magic()` command. I will save the third argument in a string variable to make the code more readable.\n",
    "\n",
    "We could then use the [`%store`](https://ipython.readthedocs.io/en/stable/config/extensions/storemagic.html) line magic to append the output to a file with the shell redirection `>>`, as follows:\n",
    "\n",
    "```python\n",
    "run_it = \"get_ipython().run_cell_magic('timeit', '', 'x = i + i')\"\n",
    "\n",
    "# This is a modified loop that saves the output of each call into a file\n",
    "for i in range(3):\n",
    "    # Capture the standard output and store it in timeit_output\n",
    "    get_ipython().run_cell_magic('capture','timeit_output', run_it)\n",
    "    %store timeit_output.stdout >>timeit.txt # Append the output to timeit.txt\n",
    "```\n",
    "</br>\n",
    "\n",
    "When trying the code above, it created the `timeit.txt` file and saved to it (in append mode) each line resulting from the `%%timeit` command. It also displayed a line for each iteration:\n",
    "```\n",
    "Writing 'timeit_output.stdout' (str) to file 'timeit.txt'.`\n",
    "```\n",
    "</br>\n",
    "\n",
    "This may not be desirable if the loop has many iterates (in this case, we want more than 100). It also made me think that we don't just want a file with all the collected outputs: it would be useful to have a list of strings, with index aligned to the course lists `course_title`, etc.\n",
    "\n",
    "By passing a name to the `%%capture` magic, it will store the captured output in an object of type `<IPython.utils.capture.CapturedIO>` with that name, and with three attributes:\n",
    "\n",
    "- `stdout`: standard output as a string\n",
    "- `stderr`: standard error as a string\n",
    "- `outputs`: a list of rich display outputs\n",
    "\n",
    "After experimenting with capturing the output of the `%%ai` cell matic, I found that `stdout` was empty and the desired content was in the `outputs` attribute, which was a list of items of type `IPython.utils.capture.RichOutput`. They have a `data` attribute: a dictionary with two key-value pairs, where the content we want is in the value corresponding to the key `'text/markdown'`. Oof! Quite the rabbit hole.\n",
    "In the end, I settled on this solution (ran for only two iterations while testing)."
   ]
  },
  {
   "cell_type": "code",
   "execution_count": 13,
   "id": "254fe701-bf2b-426a-b4fd-e494269623e8",
   "metadata": {},
   "outputs": [],
   "source": [
    "objectives = []\n",
    "for i in range(2):\n",
    "    text = course_title[i] + descriptions[i]\n",
    "    prompt = f\"{system_prompt}\\n ''' {text} '''\"\n",
    "    run_it = f\"get_ipython().run_cell_magic('ai', 'chatgpt', prompt)\"\n",
    "    get_ipython().run_cell_magic('capture','ai_output', run_it)\n",
    "    objectives.append(ai_output.outputs[0].data['text/markdown'])"
   ]
  },
  {
   "cell_type": "code",
   "execution_count": 14,
   "id": "a7217c4e-ae9c-4986-8690-639594288817",
   "metadata": {},
   "outputs": [
    {
     "data": {
      "text/markdown": [
       "- Understand the concept of round-off errors and discretization errors in numerical computations.\n",
       "- Apply various methods to solve systems of linear equations.\n",
       "- Use numerical methods to find roots of equations.\n",
       "- Apply curve fitting techniques to approximate data.\n",
       "- Perform numerical Fourier transforms to analyze signals.\n",
       "- Use numerical differentiation and integration methods to solve engineering problems.\n",
       "- Apply numerical techniques to solve differential equations.\n",
       "- Utilize computer applications for engineering computations."
      ],
      "text/plain": [
       "<IPython.core.display.Markdown object>"
      ]
     },
     "execution_count": 14,
     "metadata": {
      "text/markdown": {
       "jupyter_ai": {
        "model_id": "gpt-3.5-turbo",
        "provider_id": "openai-chat"
       }
      }
     },
     "output_type": "execute_result"
    }
   ],
   "source": [
    "ai_output.outputs[0]"
   ]
  },
  {
   "cell_type": "code",
   "execution_count": 15,
   "id": "287743af-0f04-45dc-b7f7-e07ae170ad35",
   "metadata": {},
   "outputs": [
    {
     "data": {
      "text/plain": [
       "'Engineering Computations'"
      ]
     },
     "execution_count": 15,
     "metadata": {},
     "output_type": "execute_result"
    }
   ],
   "source": [
    "course_title[i]"
   ]
  },
  {
   "cell_type": "code",
   "execution_count": 16,
   "id": "4b49edf6-fea8-44f5-98ef-2ae985a1c2b6",
   "metadata": {},
   "outputs": [
    {
     "data": {
      "text/plain": [
       "IPython.utils.capture.RichOutput"
      ]
     },
     "execution_count": 16,
     "metadata": {},
     "output_type": "execute_result"
    }
   ],
   "source": [
    "type(ai_output.outputs[0])"
   ]
  },
  {
   "cell_type": "code",
   "execution_count": 17,
   "id": "62c31945-7131-446e-893c-323aad4d8805",
   "metadata": {},
   "outputs": [
    {
     "data": {
      "text/plain": [
       "{'text/plain': '<IPython.core.display.Markdown object>',\n",
       " 'text/markdown': '- Understand the concept of round-off errors and discretization errors in numerical computations.\\n- Apply various methods to solve systems of linear equations.\\n- Use numerical methods to find roots of equations.\\n- Apply curve fitting techniques to approximate data.\\n- Perform numerical Fourier transforms to analyze signals.\\n- Use numerical differentiation and integration methods to solve engineering problems.\\n- Apply numerical techniques to solve differential equations.\\n- Utilize computer applications for engineering computations.'}"
      ]
     },
     "execution_count": 17,
     "metadata": {},
     "output_type": "execute_result"
    }
   ],
   "source": [
    "ai_output.outputs[0].data"
   ]
  },
  {
   "cell_type": "code",
   "execution_count": 18,
   "id": "6cebfdf8-4635-46fb-9dd9-73f25e502f73",
   "metadata": {},
   "outputs": [
    {
     "data": {
      "text/plain": [
       "dict"
      ]
     },
     "execution_count": 18,
     "metadata": {},
     "output_type": "execute_result"
    }
   ],
   "source": [
    "type(ai_output.outputs[0].data)"
   ]
  },
  {
   "cell_type": "code",
   "execution_count": 19,
   "id": "21b62881-f658-4a3d-a992-06780a58cc17",
   "metadata": {},
   "outputs": [
    {
     "data": {
      "text/plain": [
       "str"
      ]
     },
     "execution_count": 19,
     "metadata": {},
     "output_type": "execute_result"
    }
   ],
   "source": [
    "type(ai_output.outputs[0].data['text/markdown'])"
   ]
  },
  {
   "cell_type": "code",
   "execution_count": 20,
   "id": "cda3ca88-a524-453d-98d2-46f9c89aefe9",
   "metadata": {},
   "outputs": [
    {
     "data": {
      "text/plain": [
       "['- Demonstrate proficiency in using technical drawing instruments for accurate and precise drawings.\\n- Apply appropriate lettering techniques to ensure clarity and readability in technical drawings.\\n- Use geometric construction methods to create accurate and detailed shapes and structures.\\n- Create sketches that effectively convey design concepts and ideas.\\n- Generate and interpret orthographic projections and section views of three-dimensional objects.\\n- Apply dimensioning and tolerancing principles to ensure proper measurements and specifications in technical drawings.\\n- Utilize computer-aided drafting software to create, modify, and enhance technical drawings, incorporating manual drawing techniques.',\n",
       " '- Understand the concept of round-off errors and discretization errors in numerical computations.\\n- Apply various methods to solve systems of linear equations.\\n- Use numerical methods to find roots of equations.\\n- Apply curve fitting techniques to approximate data.\\n- Perform numerical Fourier transforms to analyze signals.\\n- Use numerical differentiation and integration methods to solve engineering problems.\\n- Apply numerical techniques to solve differential equations.\\n- Utilize computer applications for engineering computations.']"
      ]
     },
     "execution_count": 20,
     "metadata": {},
     "output_type": "execute_result"
    }
   ],
   "source": [
    "objectives"
   ]
  },
  {
   "cell_type": "code",
   "execution_count": 21,
   "id": "5a0575f9-3150-478a-87a2-c29f4785ffce",
   "metadata": {},
   "outputs": [
    {
     "data": {
      "text/plain": [
       "2"
      ]
     },
     "execution_count": 21,
     "metadata": {},
     "output_type": "execute_result"
    }
   ],
   "source": [
    "len(objectives)"
   ]
  },
  {
   "cell_type": "markdown",
   "id": "e4226d68-844d-4c56-a34a-f8c085a4091d",
   "metadata": {},
   "source": [
    "Getting to this point was quite a discovery process, but I now have code that can:\n",
    "\n",
    "- iterate over course titles and descriptions in a loop\n",
    "- call the `%%ai` cell magic in each loop iteration using the `get_ipython().run_cell_magic()` command to prompt a language model to generate learning objectives\n",
    "- call the `%%capture` cell magic to capture the output and store it in IO objects\n",
    "- do some acrobatics to get the content we want appended to a list of strings called `objectives`\n",
    "\n",
    "**Note:** After a lot of trial-and-error work, I got the following error message:\n",
    "\n",
    "```\n",
    "InvalidRequestError: This model's maximum context length is 4097 tokens. However, your messages resulted in 4263 tokens. Please reduce the length of the messages.\n",
    "```\n",
    "</br>\n",
    "\n",
    "I didn't realize it, but I was sending the history of prompts and outputs as context to the model, until the context was too big for GPT-3.5-turbo. So I had to reset the chat history with:\n",
    "\n",
    "```\n",
    "%%ai openai-chat:gpt-3.5-turbo -r\n",
    "reset the chat history\n",
    "```\n",
    "</br>\n",
    "\n",
    "All my experimentation to get to this point cost me a total of $0.07 in API usage.\n",
    "\n",
    "I will reset the chat again, and now I'm confident to run the loop for all the courses. Here we go!"
   ]
  },
  {
   "cell_type": "code",
   "execution_count": 22,
   "id": "e73fa433-3ac2-47b0-887c-d1bcf290f7a4",
   "metadata": {},
   "outputs": [],
   "source": [
    "%%ai openai-chat:gpt-3.5-turbo -r\n",
    "reset the chat history"
   ]
  },
  {
   "cell_type": "code",
   "execution_count": 23,
   "id": "d45b3c27-4fc3-449b-9f59-9ff5eb13ce02",
   "metadata": {},
   "outputs": [],
   "source": [
    "objectives = []\n",
    "for i in range(len(descriptions)):\n",
    "    text = course_title[i] + descriptions[i]\n",
    "    prompt = f\"{system_prompt}\\n ''' {text} '''\"\n",
    "    run_it = f\"get_ipython().run_cell_magic('ai', 'chatgpt', prompt)\"\n",
    "    get_ipython().run_cell_magic('capture','ai_output', run_it)\n",
    "    objectives.append(ai_output.outputs[0].data['text/markdown'])\n",
    "    get_ipython().run_cell_magic('ai','openai-chat:gpt-3.5-turbo -r', 'reset the chat history')"
   ]
  },
  {
   "cell_type": "markdown",
   "id": "36753f3b-0bbd-4a73-95e3-7fd25583f672",
   "metadata": {},
   "source": [
    "The code block first exited at `i=14`, having again exceeded the maximum context length. I thus added a chat reset within the loop. Running it with the resets to the end took about 30 minutes, and cost a total of about 6 cents in API usage."
   ]
  },
  {
   "cell_type": "code",
   "execution_count": 24,
   "id": "572f842e-34ab-4ca7-b0ad-43990eefc992",
   "metadata": {},
   "outputs": [
    {
     "data": {
      "text/plain": [
       "107"
      ]
     },
     "execution_count": 24,
     "metadata": {},
     "output_type": "execute_result"
    }
   ],
   "source": [
    "i"
   ]
  },
  {
   "cell_type": "code",
   "execution_count": 25,
   "id": "b6787cf3-c69b-442f-89f1-1377e6997dd5",
   "metadata": {},
   "outputs": [
    {
     "name": "stdout",
     "output_type": "stream",
     "text": [
      "Fluid Mechanics I\n",
      "- Apply the fundamental concepts of fluid mechanics, including fluid properties, fluid statics, and the integral and differential formulations of conservation of mass, momentum, and energy.\n",
      "- Analyze and solve fluid mechanics problems using Bernoulli's equation and dimensional analysis.\n",
      "- Evaluate different types of fluid flow, distinguishing between inviscid and viscous flows.\n",
      "- Utilize experimental and computational methods in fluid mechanics to analyze and solve real-world problems.\n",
      "- Demonstrate a deep understanding of the prerequisite knowledge in APSC 2058 to effectively apply it in the context of Fluid Mechanics I.\n"
     ]
    }
   ],
   "source": [
    "# print any course's generated learning objectives by changing the index \n",
    "idx = 6\n",
    "print(course_title[idx])\n",
    "print(objectives[idx])"
   ]
  },
  {
   "cell_type": "markdown",
   "id": "281d6d82-6232-4984-ae43-bdfa6aaf6d5a",
   "metadata": {},
   "source": [
    "# Save the generated output for future use\n",
    "\n",
    "I have aligned Python lists with `course_id`, `course_title` and `objectives`. I would like to create a JSON file with the zipped contents of these lists, meaning, `course_id[i]` should be followed by `course_title[i]` and `objectives[i]` for all values of `i`.\n",
    "\n",
    "I elected to use JSON rather than pickling the lists so the file is human-readable. "
   ]
  },
  {
   "cell_type": "code",
   "execution_count": 26,
   "id": "f41219ba-fd7b-4951-9575-9ee1b5f07de6",
   "metadata": {},
   "outputs": [],
   "source": [
    "import json"
   ]
  },
  {
   "cell_type": "code",
   "execution_count": 27,
   "id": "3692ae45-1009-44d3-9637-25db9a0ec92a",
   "metadata": {},
   "outputs": [],
   "source": [
    "# Combine the course_id, course_title and objectives lists using zip()\n",
    "zipped_data = list(zip(course_id, course_title, objectives))\n",
    "\n",
    "# Convert the zipped data into a JSON file\n",
    "json_data = json.dumps(zipped_data)\n",
    "\n",
    "# Write the JSON data to a file\n",
    "with open('course_objectives.json', 'w') as file:\n",
    "    file.write(json_data)"
   ]
  },
  {
   "cell_type": "markdown",
   "id": "81a21a0d-78da-4193-bdd4-62c4e6a9a561",
   "metadata": {},
   "source": [
    "In any future session, we can read the JSON file into Python variables with the following code:\n",
    "\n",
    "```python\n",
    "import json\n",
    "\n",
    "# Read the JSON file\n",
    "with open('data.json', 'r') as file:\n",
    "    json_data = file.read()\n",
    "\n",
    "# Parse the JSON data into Python variables\n",
    "zipped_data = json.loads(json_data)\n",
    "\n",
    "# Unzip the zipped_data into separate lists\n",
    "course_id, course_title, objectives = zip(*zipped_data)\n",
    "```\n",
    "</br>\n",
    "\n",
    "When you read the JSON file and want to unzip the data into separate lists, you can use the `zip()` function again with the asterisk `*` to unpack the zipped data.\n",
    "\n",
    "We can then work with these lists as needed in our subsequent workflow."
   ]
  },
  {
   "cell_type": "markdown",
   "id": "1ee91ff6-f1e8-4f05-bc79-a9d22b0d021e",
   "metadata": {},
   "source": [
    "# What might we do next?\n",
    "\n",
    "We have auto-generated learning objectives for 108 courses using GPT-3.5-turbo. No one would use the generated material without human inspection and improvement! But could we use AI for that, too?\n",
    "\n",
    "Human instructors could manually inspect the generated learning objectives, and flag any that need work. They may compare with historical syllabi, and perhaps mix them with auto-generated ones. Instructors could also identify course descriptions that have grown stale and need updating, after reading the generated course learning objectives.\n",
    "\n",
    "Let's compare the generated objectives for one course, with the syllabus created by the course instructor—in this case, myself:"
   ]
  },
  {
   "cell_type": "code",
   "execution_count": 28,
   "id": "835cdb78-e6e1-4407-9e00-9d20fcff7cf9",
   "metadata": {},
   "outputs": [
    {
     "data": {
      "text/plain": [
       "('MAE 2117',\n",
       " 'Engineering Computations',\n",
       " '- Apply numerical methods to solve systems of linear equations.\\n- Identify and analyze round-off errors and discretization errors in engineering computations.\\n- Utilize methods for root finding, curve fitting, and numerical Fourier transform.\\n- Implement numerical differentiation and integration techniques.\\n- Solve differential equations numerically using appropriate methods.\\n- Utilize computer applications for engineering computations.')"
      ]
     },
     "execution_count": 28,
     "metadata": {},
     "output_type": "execute_result"
    }
   ],
   "source": [
    "zipped_data[1]"
   ]
  },
  {
   "cell_type": "markdown",
   "id": "d34d445e-430e-46a3-8d70-84efa81d2072",
   "metadata": {},
   "source": [
    "My manually created learning objectives are as follows.\n",
    "\n",
    "> At the end of this course, students will be able to…\n",
    ">\n",
    "> 1. manipulate a data series programmatically to organize and explore it, and apply descriptive statistics to it;\n",
    "> 2. create data visualizations using best practices for communicating with data;\n",
    "> 3. compute linear regression from data and explain trends and model accuracy;\n",
    "> 4. explore and visualize both quantitative and categorical data;\n",
    " apply full workflows for data analysis, using real data;\n",
    "> 5. organize computational work, document it, and present it effectively.\n",
    "\n",
    "What if we prompted the language model to identify the differences? We might then engage in a constructive improvement of our course planning.\n",
    "\n",
    "Anecdotally, in this particular case, I was intrigued by the learning objectives for my own course, which sounded to me like the old-fashioned numerical course that engineering students usually take.\n",
    "Ah, yes! I wrote my version of the course for the Spring 2019 semester, when I re-focused it and revised the course description, which I submitted for updating in the university [course bulletin](https://bulletin.gwu.edu/courses/mae/), after faculty approval. The updated description reads:\n",
    "\n",
    "> Foundations of computational thinking focusing on data practices and computational problem-solving; handling data programmatically, variables and their type, logical operations; reading data from files and cleaning and organizing text data; handling multi-dimensional arrays; basic plotting; linear regression; exploratory data analysis, handling labeled data, and data visualization.\n",
    "\n",
    "The text data I used here ([posted on GitHub](https://github.com/engineersCode/EngComp1_offtheground/commit/f280fdd71aae2433bccdbe1d8fc4c36013dcf9ce)) is from an _Engineering Computations_ [lesson](http://go.gwu.edu/engcomp1lesson3) on text manipulations with Python, and was scraped from the website in 2017! The old description read: "
   ]
  },
  {
   "cell_type": "code",
   "execution_count": 29,
   "id": "af83f420-9ac0-4b91-a9ac-4d773c38834a",
   "metadata": {},
   "outputs": [
    {
     "data": {
      "text/plain": [
       "'Numerical methods for engineering applications. Round-off errors and discretization errors. Methods for solving systems of linear equations, root finding, curve fitting, numerical Fourier transform, and data approximation. Numerical differentiation and integration and numerical solution of differential equations. Computer applications. Prerequisite: MATH 1232. (Fall, Every Year).'"
      ]
     },
     "execution_count": 29,
     "metadata": {},
     "output_type": "execute_result"
    }
   ],
   "source": [
    "descriptions[1]"
   ]
  },
  {
   "cell_type": "code",
   "execution_count": 30,
   "id": "19a89133-c835-46b2-b113-8807087963d2",
   "metadata": {},
   "outputs": [
    {
     "data": {
      "text/plain": [
       "'MAE 2117'"
      ]
     },
     "execution_count": 30,
     "metadata": {},
     "output_type": "execute_result"
    }
   ],
   "source": [
    "course_id[1]"
   ]
  },
  {
   "cell_type": "markdown",
   "id": "b492b68c-dd05-4452-87cb-405a63ea3e34",
   "metadata": {},
   "source": [
    "Not only is the description out-of-date, but it is for a different course! _Engineering Computations_ became a two-course series in 2019, with the first course having the new ID: MAE 1117.\n",
    "\n",
    "Let's send GPT the updated description, and get new learning objectives."
   ]
  },
  {
   "cell_type": "code",
   "execution_count": 31,
   "id": "fbf2d2b9-9fde-4370-b220-5bc51009e64e",
   "metadata": {},
   "outputs": [],
   "source": [
    "descriptions[1] = 'Foundations of computational thinking focusing on data practices and computational problem-solving; handling data programmatically, variables and their type, logical operations; reading data from files and cleaning and organizing text data; handling multi-dimensional arrays; basic plotting; linear regression; exploratory data analysis, handling labeled data, and data visualization. (Spring, Every year)'"
   ]
  },
  {
   "cell_type": "code",
   "execution_count": 32,
   "id": "486e8fb4-54d2-43bc-804d-241add965a0b",
   "metadata": {},
   "outputs": [],
   "source": [
    "text = course_title[1] + descriptions[1]"
   ]
  },
  {
   "cell_type": "code",
   "execution_count": 33,
   "id": "3f76eaba-9798-4abb-b6ed-fc1b6f6c5ecf",
   "metadata": {},
   "outputs": [
    {
     "data": {
      "text/markdown": [
       "1. Demonstrate understanding of foundational concepts in computational thinking.\n",
       "2. Apply programming techniques to handle data efficiently and effectively.\n",
       "3. Analyze and manipulate multi-dimensional arrays to solve computational problems.\n",
       "4. Implement basic data visualization techniques to effectively communicate findings.\n",
       "5. Apply exploratory data analysis methods to gain insights from large datasets.\n",
       "6. Utilize linear regression to analyze and predict patterns in data.\n",
       "7. Develop skills to read, clean, organize, and process text data from files."
      ],
      "text/plain": [
       "<IPython.core.display.Markdown object>"
      ]
     },
     "execution_count": 33,
     "metadata": {
      "text/markdown": {
       "jupyter_ai": {
        "model_id": "gpt-3.5-turbo",
        "provider_id": "openai-chat"
       }
      }
     },
     "output_type": "execute_result"
    }
   ],
   "source": [
    "%%ai openai-chat:gpt-3.5-turbo\n",
    "{system_prompt} \n",
    "''' {text} '''"
   ]
  },
  {
   "cell_type": "markdown",
   "id": "871cabc8-ceaf-4272-b25f-fe994656748f",
   "metadata": {},
   "source": [
    "That is indeed closer to the course objectives I originally wrote. Phew!\n",
    "\n",
    "This final exercise was a small side-track, but still interesting in its own right, I think.\n",
    "\n",
    "# Some niggling questions:\n",
    "\n",
    "- Would a human instructor generate learning objectives that are any better than the automatically generated ones?\n",
    "- Can we imagine a workflow where we begin with automatic generation, and humans add slight improvements?\n",
    "- How much collective faculty time could be saved by such a workflow?\n",
    "- Could the generated learning objectives help us identify badly composed (or out-of-date) course descriptions?\n",
    "- How about using generative AI for the next steps: \"Generate a weekly lesson plan to achieve the learning objectives\" and \"Write an outline for each week's lesson\" and more?\n",
    "- Would such use of AI in any way diminish student learning? After all, **learning is a process, not a destination**, and much less simply a set of contents."
   ]
  },
  {
   "cell_type": "markdown",
   "id": "53f6ada5-4f1c-4f95-a975-8233cb1b1bdd",
   "metadata": {},
   "source": [
    "**References**\n",
    "\n",
    "- Barba, Lorena A. (2019). MAE-1117 Introduction to Engineering Computations (Syllabus). figshare. Online resource. [https://doi.org/10.6084/m9.figshare.7588697.v1](https://doi.org/10.6084/m9.figshare.7588697.v1)\n",
    "- Barba, Lorena A.; Clementi, Natalia C. (2017). Engineering Computations Module 1: Get data off the ground. figshare. Online resource. [https://doi.org/10.6084/m9.figshare.5673454.v1](https://doi.org/10.6084/m9.figshare.5673454.v1)"
   ]
  },
  {
   "cell_type": "code",
   "execution_count": 1,
   "id": "2c62cbf5-c168-4675-86e4-d4c91ed3ef23",
   "metadata": {},
   "outputs": [
    {
     "data": {
      "text/html": [
       "<style>\n",
       "\n",
       "@font-face {\n",
       "    font-family: 'et-book';\n",
       "    src: url('https://cdnjs.cloudflare.com/ajax/libs/tufte-css/1.8.0/et-book/et-book-roman-line-figures/et-book-roman-line-figures.woff') format('woff2'),\n",
       "         url('https://cdnjs.cloudflare.com/ajax/libs/tufte-css/1.8.0/et-book/et-book-roman-line-figures/et-book-roman-line-figures.woff') format('woff');\n",
       "    font-weight: normal;\n",
       "    font-style: normal;\n",
       "}\n",
       "@font-face {\n",
       "    font-family: 'et-book';\n",
       "    src: url('https://cdnjs.cloudflare.com/ajax/libs/tufte-css/1.8.0/et-book/et-book-display-italic-old-style-figures/et-book-display-italic-old-style-figures.woff') format('woff');\n",
       "    font-weight: normal;\n",
       "    font-style: italic;\n",
       "}\n",
       "@font-face {\n",
       "    font-family: 'et-book';\n",
       "    src: url('https://cdnjs.cloudflare.com/ajax/libs/tufte-css/1.8.0/et-book/et-book-bold-line-figures/et-book-bold-line-figures.woff') format('woff');\n",
       "    font-weight: bold;\n",
       "    font-style: normal;\n",
       "}\n",
       "/* The various ET-Book fonts are on GitHub at: https://github.com/edwardtufte/et-book\n",
       "*/\n",
       "@font-face{\n",
       "    font-family: 'Source Code Pro';\n",
       "    font-weight: 400;\n",
       "    font-style: normal;\n",
       "    font-stretch: normal;\n",
       "    src: url('https://raw.githubusercontent.com/adobe-fonts/source-code-pro/release/WOFF2/OTF/SourceCodePro-Regular.otf.woff2') format('woff2'),\n",
       "         url('https://raw.githubusercontent.com/adobe-fonts/source-code-pro/release/WOFF/OTF/SourceCodePro-Regular.otf.woff') format('woff'),\n",
       "         url('https://raw.githubusercontent.com/adobe-fonts/source-code-pro/release/OTF/SourceCodePro-Regular.otf') format('opentype');\n",
       "}\n",
       "\n",
       "@font-face{\n",
       "    font-family: 'Source Sans';\n",
       "    font-weight: 400;\n",
       "    font-style: normal;\n",
       "    font-stretch: normal;\n",
       "    src: url('https://raw.githubusercontent.com/adobe-fonts/source-sans/release/WOFF2/OTF/SourceSans3-Regular.otf.woff2') format('woff2'),\n",
       "         url('https://raw.githubusercontent.com/adobe-fonts/source-sans/release/WOFF/OTF/SourceSans3-Regular.otf.woff') format('woff'),\n",
       "         url('https://raw.githubusercontent.com/adobe-fonts/source-sans/release/OTF/SourceSans3-Regular.otf') format('opentype');\n",
       "}\n",
       "\n",
       ":root {\n",
       "    --jp-content-line-height: 1.3;\n",
       "    --jp-content-font-scale-factor: 1.2;\n",
       "    --jp-content-font-size1: 20px; /* Base font size */\n",
       "    --jp-content-font-family: 'et-book', 'Palatino Linotype', Palatino, serif;\n",
       "} \n",
       "\n",
       ".jp-RenderedHTMLCommon {\n",
       "    line-height: 1.3 !important;\n",
       "    font-size: 20px !important;\n",
       "    font-family: 'et-book', 'Palatino Linotype', Palatino, serif;\n",
       "    padding-left: 10% !important;\n",
       "    padding-right: 20% !important;\n",
       "}\n",
       "\n",
       ".jp-CodeCell {\n",
       "    padding-left: 10% !important;\n",
       "    padding-right: 20% !important;\n",
       "}\n",
       "\n",
       ".jp-RawCell {\n",
       "    padding-left: 10% !important;\n",
       "    padding-right: 20% !important;\n",
       "}\n",
       "\n",
       "\n",
       "code {\n",
       "    font-size: 0.8em !important;\n",
       "    background-color: #f0f0f0 !important;\n",
       "}\n",
       "\n",
       "hr {\n",
       "    background: #000;\n",
       "    height: 1px;\n",
       "    border: 0px;\n",
       "} \n",
       "\n",
       "\n",
       "#notebook_panel { /* main background */\n",
       "    background: rgb(245,245,245);\n",
       "}\n",
       "\n",
       "div.cell { /* set cell width */\n",
       "    width: 800px;\n",
       "}\n",
       "\n",
       "div #notebook { /* centre the content */\n",
       "    background: #fff; /* white background for content */\n",
       "    width: 800px;\n",
       "    margin: auto;\n",
       "    padding-left: 0em;\n",
       "}\n",
       "\n",
       "#notebook li { /* More space between bullet points */\n",
       "margin-top:0.5em;\n",
       "}\n",
       "\n",
       "/* draw border around running cells */\n",
       "div.cell.border-box-sizing.code_cell.running { \n",
       "    border: 1px solid #111;\n",
       "}\n",
       "\n",
       "/* Put a solid color box around each cell and its output, visually linking them*/\n",
       "div.cell.code_cell {\n",
       "    background-color: rgb(256,256,256); \n",
       "    border-radius: 0px; \n",
       "    padding: 0.5em;\n",
       "    margin-left:1em;\n",
       "    margin-top: 1em;\n",
       "}\n",
       "\n",
       "\n",
       "div.text_cell_render{\n",
       "    font-family: 'Source Sans', sans-serif;\n",
       "    line-height: 140%;\n",
       "    font-size: 110%;\n",
       "    width:680px;\n",
       "    margin-left:auto;\n",
       "    margin-right:auto;\n",
       "}\n",
       "\n",
       "/* Formatting for header cells */\n",
       ".text_cell_render h1 {\n",
       "    /* font-family: 'Merriweather', serif; */\n",
       "    font-style:regular;\n",
       "    font-weight: bold;    \n",
       "    font-size: 250%;\n",
       "    line-height: 100%;\n",
       "    color: #004065;\n",
       "    margin-bottom: 1em;\n",
       "    margin-top: 0.5em;\n",
       "    display: block;\n",
       "}\t\n",
       ".text_cell_render h2 {\n",
       "    /* font-family: 'Merriweather', serif; */\n",
       "    font-weight: bold; \n",
       "    font-size: 180%;\n",
       "    line-height: 100%;\n",
       "    color: #0096d6;\n",
       "    margin-bottom: 0.5em;\n",
       "    margin-top: 0.5em;\n",
       "    display: block;\n",
       "}\t\n",
       "\n",
       ".text_cell_render h3 {\n",
       "    /* font-family: 'Merriweather', serif; */\n",
       "\tfont-size: 150%;\n",
       "    margin-top:12px;\n",
       "    margin-bottom: 3px;\n",
       "    font-style: regular;\n",
       "    color: #008367;\n",
       "}\n",
       "\n",
       ".text_cell_render h4 {    /*Use this for captions*/\n",
       "    font-family: 'et-book';\n",
       "    font-weight: 300; \n",
       "    font-size: 100%;\n",
       "    line-height: 120%;\n",
       "    text-align: left;\n",
       "    width:500px;\n",
       "    margin-top: 1em;\n",
       "    margin-bottom: 2em;\n",
       "    margin-left: 80pt;\n",
       "    font-style: italic;\n",
       "}\n",
       "\n",
       ".text_cell_render h5 {  /*Use this for small titles*/\n",
       "    font-family: 'Source Sans', sans-serif;\n",
       "    font-size: 130%;\n",
       "    color: #e31937;\n",
       "    margin-bottom: .5em;\n",
       "    margin-top: 1em;\n",
       "    display: block;\n",
       "}\n",
       "\n",
       ".text_cell_render h6 { /*use this for copyright note*/\n",
       "    font-family: 'Source Code Pro', sans-serif;\n",
       "    font-weight: 300;\n",
       "    font-size: 9pt;\n",
       "    line-height: 100%;\n",
       "    color: grey;\n",
       "    margin-bottom: 1px;\n",
       "    margin-top: 1px;\n",
       "}\n",
       "\n",
       "    .CodeMirror{\n",
       "            font-family: \"Source Code Pro\";\n",
       "\t\t\tfont-size: 100%;\n",
       "    }\n",
       "/*    .prompt{\n",
       "        display: None;\n",
       "    }*/\n",
       "\t\n",
       "    \n",
       "    .warning{\n",
       "        color: rgb( 240, 20, 20 )\n",
       "        }  \n",
       "</style>\n",
       "<script>\n",
       "    MathJax.Hub.Config({\n",
       "                        TeX: {\n",
       "                           extensions: [\"AMSmath.js\"], \n",
       "                           equationNumbers: { autoNumber: \"AMS\", useLabelIds: true}\n",
       "                           },\n",
       "                tex2jax: {\n",
       "                    inlineMath: [ ['$','$'], [\"\\\\(\",\"\\\\)\"] ],\n",
       "                    displayMath: [ ['$$','$$'], [\"\\\\[\",\"\\\\]\"] ]\n",
       "                },\n",
       "                displayAlign: 'center', // Change this to 'center' to center equations.\n",
       "                \"HTML-CSS\": {\n",
       "                    styles: {'.MathJax_Display': {\"margin\": 4}}\n",
       "                }\n",
       "        });\n",
       "</script>\n"
      ],
      "text/plain": [
       "<IPython.core.display.HTML object>"
      ]
     },
     "execution_count": 1,
     "metadata": {},
     "output_type": "execute_result"
    }
   ],
   "source": [
    "from IPython.core.display import HTML\n",
    "style_file = '../style/custom.css'\n",
    "HTML(open(style_file, \"r\").read())"
   ]
  }
 ],
 "metadata": {
  "kernelspec": {
   "display_name": "Python 3 (ipykernel)",
   "language": "python",
   "name": "python3"
  },
  "language_info": {
   "codemirror_mode": {
    "name": "ipython",
    "version": 3
   },
   "file_extension": ".py",
   "mimetype": "text/x-python",
   "name": "python",
   "nbconvert_exporter": "python",
   "pygments_lexer": "ipython3",
   "version": "3.11.6"
  }
 },
 "nbformat": 4,
 "nbformat_minor": 5
}
