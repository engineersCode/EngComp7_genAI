{
 "cells": [
  {
   "cell_type": "raw",
   "id": "bdf89d69-c7ca-4a66-931a-0960f8794040",
   "metadata": {},
   "source": [
    "Content under Creative Commons Attribution license CC-BY 4.0, code under BSD 3-Clause License © 2023 Lorena A. Barba"
   ]
  },
  {
   "cell_type": "markdown",
   "id": "aec422c4-435a-418a-baf1-46f8cc5f51ae",
   "metadata": {},
   "source": [
    "# Using Jupyter AI\n",
    "\n",
    "Jupyter AI is an official extension of JupyterLab that offers an interface to exisiting large language models (LLMs). It is not an LLM itself, but a way to bring the power of generative AI tools to Jupyter.\n",
    "\n",
    "Documentation can be found at https://jupyter-ai.readthedocs.io/ (including how to install the library).\n",
    "\n",
    "As of summer 2023, the [GW JupyterHub](http://go.gwu.edu/jupyter) already has installed the `jupyter_ai` library. To use it, you need to combine it with an AI model from one of the various providers: OpenAI, Anthropic, etc. \n",
    "(If you don't have access to an institutional JupyterHub, you can install Jupyter AI in your local machine according to the documentation.)\n",
    "\n",
    "Most AI model providers have an associated Python package, and can be accessed via an API key. This allows you to interact with their models programmatically, either from a Python program or in a Jupyter notebook. \n",
    "For example, to use OpenAI models, we can use the `openai` Python package, and need to set the `OPENAI_AI_KEY` environment variable. You generate this key within your OpenAI account, and will be charged for use at the current [pricing](https://openai.com/pricing)—e.g., with the `gpt-3.5-turbo` model, you pay $0.002 for 1,000 tokens (about 750 words). (New users get some free credits.)\n",
    "\n",
    "With the Jupyter AI extension, you can access language models without having to directly use their associated Python package. You still need to set the API key environment variable, however.\n",
    "To set an environment variable within a Jupyter notebook, you can use the `os` Python module. The syntax is:\n",
    "\n",
    "```python\n",
    "import os\n",
    "os.environ['MY_VARIABLE'] = 'my_value'\n",
    "```\n",
    "\n",
    "Note that the environment variable will only be set for the current session of the notebook. Once the notebook and its associated kernel are restarted, the environment variable will be reset.\n",
    "\n",
    "It's also a good idea to delete the cell after executing it, to protect your credentials."
   ]
  },
  {
   "cell_type": "code",
   "execution_count": 1,
   "id": "cc916b1a-8a71-4e58-b506-f207cb3c44c2",
   "metadata": {},
   "outputs": [],
   "source": [
    "import os\n",
    "os.environ['OPENAI_API_KEY'] = 'deleted' #DELETE!!!"
   ]
  },
  {
   "cell_type": "markdown",
   "id": "73bd4a20-8568-4576-9d30-d25e6164219e",
   "metadata": {},
   "source": [
    "## Jupyter AI chat interface\n",
    "\n",
    "With the extension installed, you get a native chat interface right in JupyterLab. Open it by clicking the \"chat\" icon on the sidebar. It looks like this:\n",
    "\n",
    "![](chat_icon.png)\n",
    "\n",
    "You select the model to use and add your API key in the settings (gear icon), then click the Back link (left arrow) to get back to the chat interface. Now you can write in the \"Ask Jupyternaut\" text box, and that will be sent as a prompt to your chosen LLM. If you select some code or text in your open Jupyter notebook, it can be included in the prompt!  \n",
    "\n",
    "Find out more in the [documentation](https://jupyter-ai.readthedocs.io/en/latest/users/index.html#the-chat-interface)."
   ]
  },
  {
   "cell_type": "markdown",
   "id": "2eeeeb6c-6e50-4e9d-bb18-5911b5b0c79d",
   "metadata": {},
   "source": [
    "## Jupyter AI Magics\n",
    "\n",
    "Interacting with the language model via the chat interface allows you to ask questions, get explanations and sample code, work through errors, and so on. Jupyter AI also gives you the power to prompt your chosen LLM from a notebook cell, using _magics_.\n",
    "\n",
    "_Magics_ in Jupyter are special commands. There are two types:\n",
    "\n",
    "- line magics, using an `%` before them\n",
    "- cell magics, using `%%`, the command name, and subsequent lines\n",
    "\n",
    "Most AI products offer online \"playgrounds,\" like the [OpenAI platform](https://platform.openai.com/), or a web interface, like [ChatGPT](https://chat.openai.com/) and [Claude](https://claude.ai/). With Jupyter AI magics you can bring the AI model into a programmatic environment, which means you can document, and share with others, your AI-supported workflow. \n",
    "\n",
    "The following command loads the Jupyter AI extension (once installed), so you can use Jupyter AI within the notebook interface itself."
   ]
  },
  {
   "cell_type": "code",
   "execution_count": 2,
   "id": "03a304fa-9156-4b99-b15e-f6c17018e8a7",
   "metadata": {},
   "outputs": [],
   "source": [
    "%load_ext jupyter_ai"
   ]
  },
  {
   "cell_type": "markdown",
   "id": "2d81f317-6b0f-47a3-87ad-74b0e75c5093",
   "metadata": {},
   "source": [
    "Now you can use the `%ai` line magic and the `%%ai` cell magic to run the Jupyter AI special commands in code cells. Use the following syntax to send a prompt to your chosen model:\n",
    "\n",
    "```python\n",
    "%%ai <provider-id>:<model-id>\n",
    "Extended text containing your prompt.\n",
    "```\n",
    "\n",
    "To print the list of available [providers and models](https://jupyter-ai.readthedocs.io/en/latest/users/index.html#choosing-a-provider-and-model), you can use the `%ai list` line magic command. For example, for OpenAI's GPT-3.5-turbo model, use: `%ai openai-chat:gpt-3.5-turbo`. \n",
    "\n",
    "The output of the model will be formatted in Markdown by default.\n",
    "\n",
    "Here's an example:"
   ]
  },
  {
   "cell_type": "code",
   "execution_count": 3,
   "id": "88a90fc0-0ab3-4894-9877-e89b631d57e3",
   "metadata": {},
   "outputs": [
    {
     "data": {
      "text/markdown": [
       "The linear advection equation is a partial differential equation that describes the transport of a quantity through a medium. It is commonly used in fluid dynamics, meteorology, and other fields to model the propagation of wave-like phenomena.\n",
       "\n",
       "The equation can be written as:\n",
       "\n",
       "$$\\frac{\\partial u}{\\partial t} + c\\frac{\\partial u}{\\partial x} = 0$$\n",
       "\n",
       "where:\n",
       "- $\\frac{\\partial u}{\\partial t}$ represents the rate of change of the quantity $u$ with respect to time $t$. It describes how the quantity is changing over time.\n",
       "- $\\frac{\\partial u}{\\partial x}$ represents the rate of change of the quantity $u$ with respect to the spatial coordinate $x$. It describes how the quantity is changing as it moves in the spatial dimension.\n",
       "- $c$ is the advection speed or velocity of the quantity $u$. It determines how fast the quantity is propagating through the medium.\n",
       "\n",
       "In physical terms, this equation states that the change in the quantity $u$ with time is balanced by the advection of $u$ due to the velocity $c$ in the spatial dimension. In other words, the equation asserts that the rate of change of $u$ at a given point in space is equal to the rate of change of $u$ as it moves in that direction. This implies that the quantity $u$ moves with a constant speed $c$ without being distorted or modified in any way.\n",
       "\n",
       "The linear advection equation is a basic model that provides insights into the behavior of wave-like phenomena and their propagation in a medium. It serves as a building block for more complex and realistic equations in fluid dynamics and other fields."
      ],
      "text/plain": [
       "<IPython.core.display.Markdown object>"
      ]
     },
     "execution_count": 3,
     "metadata": {
      "text/markdown": {
       "jupyter_ai": {
        "model_id": "gpt-3.5-turbo",
        "provider_id": "openai-chat"
       }
      }
     },
     "output_type": "execute_result"
    }
   ],
   "source": [
    "%%ai openai-chat:gpt-3.5-turbo\n",
    "What is the linear advection equation?\n",
    "Show me the equation using LaTeX, delimited by `$`, then explain each \n",
    "term's physical meaning."
   ]
  },
  {
   "cell_type": "code",
   "execution_count": 4,
   "id": "7711e8c7-4d36-42d0-890b-805045643768",
   "metadata": {},
   "outputs": [
    {
     "data": {
      "text/markdown": [
       "```python\n",
       "import numpy as np\n",
       "import matplotlib.pyplot as plt\n",
       "\n",
       "def step_func(x, x0, width):\n",
       "    \"\"\"\n",
       "    Step function for initial condition\n",
       "    \"\"\"\n",
       "    return np.where((x >= x0) & (x <= x0 + width), 1, 0)\n",
       "\n",
       "def linear_advection(n_x, n_t, x_max, t_max, c):\n",
       "    \"\"\"\n",
       "    Solve the linear advection equation using Euler's method for time\n",
       "    and a backward difference scheme for the space variable.\n",
       "    \n",
       "    Parameters:\n",
       "    - n_x (int): number of grid points in space\n",
       "    - n_t (int): number of time steps\n",
       "    - x_max (float): maximum x value\n",
       "    - t_max (float): maximum t value\n",
       "    - c (float): advection speed\n",
       "    \n",
       "    Returns:\n",
       "    - x (ndarray): x grid\n",
       "    - t (ndarray): t grid\n",
       "    - u (ndarray): solution array\n",
       "    \"\"\"\n",
       "    dx = x_max / (n_x - 1)\n",
       "    dt = t_max / n_t\n",
       "    \n",
       "    x = np.linspace(0, x_max, n_x)\n",
       "    t = np.linspace(0, t_max, n_t)\n",
       "    u = np.zeros((n_t, n_x))\n",
       "    \n",
       "    # initial condition\n",
       "    u[0] = step_func(x, x_max / 4, x_max / 10)\n",
       "    \n",
       "    for i in range(1, n_t):\n",
       "        for j in range(1, n_x):\n",
       "            u[i, j] = u[i-1, j-1] - c * dt / dx * (u[i-1, j] - u[i-1, j-1])\n",
       "    \n",
       "    return x, t, u\n",
       "\n",
       "# Parameters\n",
       "n_x = 100\n",
       "n_t = 500\n",
       "x_max = 1.0\n",
       "t_max = 1.0\n",
       "c = 1.0\n",
       "\n",
       "# Solve linear advection equation\n",
       "x, t, u = linear_advection(n_x, n_t, x_max, t_max, c)\n",
       "\n",
       "# Plotting\n",
       "plt.figure(figsize=(10, 6))\n",
       "plt.pcolormesh(x, t, u, cmap='jet')\n",
       "plt.colorbar(label='u')\n",
       "plt.title('Solution to Linear Advection Equation')\n",
       "plt.xlabel('x')\n",
       "plt.ylabel('t')\n",
       "plt.show()\n",
       "```\n",
       "\n",
       "The code above solves the linear advection equation using Euler's method for time and a backward difference scheme for the space variable. It defines a step function as the initial condition and uses numpy and matplotlib libraries.\n",
       "\n",
       "The `step_func` function generates a step function for the initial condition. It takes the x grid, the position of the step (x0), and the width of the step as parameters. It returns an array with the same length as the x grid with values 1 where the step is located and 0 elsewhere.\n",
       "\n",
       "The main function `linear_advection` takes the number of grid points (n_x, n_t) in space and time, the maximum x and t values (x_max, t_max), and the advection speed (c) as parameters. It initializes the x and t grids and the solution array (u) to zeros. It applies the initial condition using the `step_func` and then iterates over time and space to compute the solution using Euler's method and backward difference scheme. The computed solution is returned as x, t, and u.\n",
       "\n",
       "Finally, the code sets the parameters for the linear advection equation and calls the `linear_advection` function. It then plots the solution using `plt.pcolormesh` and sets the color map to 'jet'. The resulting plot displays the solution to the linear advection equation as a function of x and t. The color bar on the right indicates the value of u. The x-axis represents the spatial domain, and the y-axis represents the temporal domain."
      ],
      "text/plain": [
       "<IPython.core.display.Markdown object>"
      ]
     },
     "execution_count": 4,
     "metadata": {
      "text/markdown": {
       "jupyter_ai": {
        "model_id": "gpt-3.5-turbo",
        "provider_id": "openai-chat"
       }
      }
     },
     "output_type": "execute_result"
    }
   ],
   "source": [
    "%%ai openai-chat:gpt-3.5-turbo\n",
    "Write Python code to solve the linear advection equation\n",
    "using Euler's method for time, and a backward difference \n",
    "scheme for the space variable.\n",
    "Use a step function as initial condition."
   ]
  },
  {
   "cell_type": "markdown",
   "id": "de972465-d418-4f29-b804-7b30af36fc43",
   "metadata": {},
   "source": [
    "## Which to use: chat interface, or magics?\n",
    "\n",
    "You could ask the same question above via the chat interface, and can get a similar answer (it will never be exactly the same). So which one should you use?\n",
    "\n",
    "If you ask in the chat interface, you can click the \"Copy to Clipboard\" option, then paste in a code cell and execute. You may need to debug and correct the generated code—it's not guaranteed to be correct! You could also copy and paste from output generated via an `%%ai` magic. \n",
    "\n",
    "The difference is that when you close your Jupyter session, the chat interactions are cleared, whereas any calls to an LLM via `%%ai` would be saved in your notebook. Thus, you might use the chat when you are in exploratory mode, or problem-solving assisted by AI, and use the magics when you want to document your work and possibly share it with others. \n",
    "\n",
    "Another difference: the chat interface has \"memory,\" meaning a subsequent question or request will be answered by the model with the previous interactions as _context_. In general, calls to a model from a code cell using `%%ai` are \"one-shot\" prompts, meaning each one is independent. The exception is the `openai-chat` provider, which adds to requests the previous prompts as context. \n",
    "\n",
    "##### _Example:_\n",
    "\n",
    "Using _in the chat_ the same prompt above requesting a Python code to solve the linear advection equation gives a similar output. Following up with a request to: \"Turn the double for-loop in the code above into vectorized NumPy code using array slicing\" gave a modified code as follows:\n",
    "\n",
    "```python\n",
    "import numpy as np\n",
    "import matplotlib.pyplot as plt\n",
    "\n",
    "# Parameters\n",
    "L = 1       # Length of the domain\n",
    "T = 1       # Total time\n",
    "N = 100     # Number of spatial grid points\n",
    "M = 100     # Number of time steps\n",
    "c = 1       # Advection velocity\n",
    "dx = L / N  # Spatial step size\n",
    "dt = T / M  # Time step size\n",
    "\n",
    "# Initialize the solution array\n",
    "u = np.zeros((M+1, N+1))\n",
    "\n",
    "# Set the initial condition (step function)\n",
    "u[0, :] = np.where(np.abs(np.linspace(0, L, N+1) - 0.5) <= 0.25, 1, 0)\n",
    "\n",
    "# Apply the backward difference scheme (vectorized)\n",
    "for i in range(M):\n",
    "    u[i+1, 1:] = u[i, 1:] - c * dt / dx * (u[i, 1:] - u[i, :-1])\n",
    "\n",
    "# Plot the solution\n",
    "x = np.linspace(0, L, N+1)\n",
    "t = np.linspace(0, T, M+1)\n",
    "X, T = np.meshgrid(x, t)\n",
    "fig = plt.figure(figsize=(8, 6))\n",
    "ax = fig.gca(projection='3d')\n",
    "ax.plot_surface(X, T, u, cmap='viridis')\n",
    "ax.set_xlabel('x')\n",
    "ax.set_ylabel('t')\n",
    "ax.set_zlabel('u')\n",
    "plt.show()\n",
    "```\n",
    "\n",
    "In this case, I asked a follow-up question on the chat, referring to the previous model output, which was available as context to my request."
   ]
  },
  {
   "cell_type": "markdown",
   "id": "3bddd766-b7f4-4f6c-acfc-d6fd8448d3f0",
   "metadata": {},
   "source": [
    "# Some advanced tricks\n",
    "\n",
    "## Aliases\n",
    "\n",
    "You can use shortcuts to call commonly used provider:model combinations. For example:\n",
    "\n",
    "- `chatgpt` is alias for `openai-chat:gpt-3.5-turbo`\n",
    "- `gpt4` is alias for `openai-chat:gpt-4`\n",
    "\n",
    "Other aliases are listed at the end of the output of the command `%ai list`. You can create your own custom aliases using the `%ai register` command, followed by the alias, and the provider:model combination.\n",
    "\n",
    "## Formatted output\n",
    "\n",
    "You can request the output in other [formats](https://jupyter-ai.readthedocs.io/en/latest/users/index.html#formatting-the-output) using the `--format` argument (shortcut: `-f`). For example, you can request typeset mathematics, or code, or HTML:"
   ]
  },
  {
   "cell_type": "code",
   "execution_count": 5,
   "id": "e77eb2bf-2988-4b01-9455-da4ba61fe15e",
   "metadata": {},
   "outputs": [
    {
     "data": {
      "text/latex": [
       "$\\displaystyle \\frac{{\\partial^2 u}}{{\\partial x^2}} \\approx \\frac{{u_{i-1} - 2u_i + u_{i+1}}}{{(\\Delta x)^2}}$"
      ],
      "text/plain": [
       "<IPython.core.display.Math object>"
      ]
     },
     "execution_count": 5,
     "metadata": {
      "text/latex": {
       "jupyter_ai": {
        "model_id": "gpt-3.5-turbo",
        "provider_id": "openai-chat"
       }
      }
     },
     "output_type": "execute_result"
    }
   ],
   "source": [
    "%%ai chatgpt --format math\n",
    "Generate the central-difference approximation of the second derivative of $u$ with respect to $x$.\n",
    "Do not include any text explanation."
   ]
  },
  {
   "cell_type": "code",
   "execution_count": 6,
   "id": "bab37c9e-577e-4e94-bd85-1a8ac3bf98a5",
   "metadata": {},
   "outputs": [
    {
     "data": {
      "text/html": [
       "AI generated code inserted below &#11015;&#65039;"
      ],
      "text/plain": [
       "<IPython.core.display.HTML object>"
      ]
     },
     "execution_count": 6,
     "metadata": {
      "text/html": {
       "jupyter_ai": {
        "model_id": "gpt-3.5-turbo",
        "provider_id": "openai-chat"
       }
      }
     },
     "output_type": "execute_result"
    }
   ],
   "source": [
    "%%ai chatgpt --format code\n",
    "Generate the central-difference approximation of the second derivative of $u$ with respect to $x$.\n",
    "Do not include any text explanation."
   ]
  },
  {
   "cell_type": "code",
   "execution_count": null,
   "id": "f626d4ce-a079-46e1-bb64-bebef4f0b72e",
   "metadata": {},
   "outputs": [],
   "source": [
    "u_xx = (u[i-1] - 2*u[i] + u[i+1]) / (dx*dx)"
   ]
  },
  {
   "cell_type": "markdown",
   "id": "b75f14c8-48af-4522-acaa-779a27019648",
   "metadata": {},
   "source": [
    "**Note:** Using the `code` format results in a new code cell being inserted below the output. Bear this in mind, as it may make your notebook unable to execute from top to bottom with \"Rull All Cells.\""
   ]
  },
  {
   "cell_type": "code",
   "execution_count": 8,
   "id": "c24a9d29-3c5b-4a7e-9f89-4af24c1da6ce",
   "metadata": {},
   "outputs": [
    {
     "data": {
      "text/html": [
       "<div style=\"border: 2px solid yellow; padding: 10px;\">\n",
       "    <span style=\"font-family: 'Times New Roman', Times, serif; font-size: 20px; color: red;\">Warning</span><br>\n",
       "    <span style=\"font-family: 'Times New Roman', Times, serif; font-size: 16px; color: grey;\">You will be hooked with Jupyter AI.</span>\n",
       "</div>"
      ],
      "text/plain": [
       "<IPython.core.display.HTML object>"
      ]
     },
     "execution_count": 8,
     "metadata": {
      "text/html": {
       "jupyter_ai": {
        "model_id": "gpt-3.5-turbo",
        "provider_id": "openai-chat"
       }
      }
     },
     "output_type": "execute_result"
    }
   ],
   "source": [
    "%%ai openai-chat:gpt-3.5-turbo --format html\n",
    "Generate one line of text with Times Roman at 20px that says \"Warning\" in red.\n",
    "Below it, write a line of text, using grey 16pt Times that says: \n",
    "\"You will be hooked with Jupyter AI.\"\n",
    "Put a yellow line box around the two lines of text"
   ]
  },
  {
   "cell_type": "markdown",
   "id": "9fc2eb55-554f-4d4d-88d2-6145d74f5bfd",
   "metadata": {},
   "source": [
    "## Include variable values in your prompt\n",
    "\n",
    "You can use curly brackets, `{}`, with a variable name that will be replaced by its value on sending the prompt to the model. This uses _formatted string literals_ in IPython: a way to dynamically create strings that include variables and other Python expressions.\n",
    "For example, define the string variable:"
   ]
  },
  {
   "cell_type": "code",
   "execution_count": 9,
   "id": "3b1390ea-bb6d-42bc-93ce-fbeb1d42bd16",
   "metadata": {},
   "outputs": [],
   "source": [
    "method = 'strip()'"
   ]
  },
  {
   "cell_type": "markdown",
   "id": "da32eac4-b640-4e06-b341-e36bf7dd112e",
   "metadata": {},
   "source": [
    "Then you can ask one or more questions about the method `strip()` using the `method` string variable inside curly brackets. You could repeat the set of questions with another method by changing the value of the string variable, and re-executing the calls to the language model."
   ]
  },
  {
   "cell_type": "code",
   "execution_count": 10,
   "id": "596377e4-bfde-47b4-ad46-8734274b6c45",
   "metadata": {},
   "outputs": [
    {
     "data": {
      "text/markdown": [
       "Example:\n",
       "```python\n",
       "string = \"   Hello, World!   \"\n",
       "print(string.strip())\n",
       "```\n",
       "Output:\n",
       "```\n",
       "Hello, World!\n",
       "```\n",
       "\n",
       "Explanation:\n",
       "The `strip()` method is a built-in string method in Python that removes leading and trailing whitespaces (spaces, tabs, and newlines) from a string. In the example above, we have a string with leading and trailing spaces. By calling the `strip()` method on the string, these spaces are removed, and the resulting string is `\"Hello, World!\"`."
      ],
      "text/plain": [
       "<IPython.core.display.Markdown object>"
      ]
     },
     "execution_count": 10,
     "metadata": {
      "text/markdown": {
       "jupyter_ai": {
        "model_id": "gpt-3.5-turbo",
        "provider_id": "openai-chat"
       }
      }
     },
     "output_type": "execute_result"
    }
   ],
   "source": [
    "%%ai chatgpt\n",
    "Give an example using the {method} method, and explain it."
   ]
  },
  {
   "cell_type": "markdown",
   "id": "0ee6b886-aea1-4373-8281-b90db41c2b30",
   "metadata": {},
   "source": [
    "## Include inputs or outputs from your notebook\n",
    "\n",
    "IPython saves the input and output history of your interactions in two lists: `In` and `Out`. If you want to retrieve the input of line 1, for example, you can access it via a formatted string with `{In[1]}`.\n",
    "\n",
    "Say you experienced an error on executing input line `In[9]`. You can ask your LLM to explain the problem with your code using the prompt:\n",
    "\n",
    "```\n",
    "The code below is failing. What is wrong with it?\n",
    "{In[9]}\n",
    "```\n",
    "\n",
    "Also, the variable `_i` always stores the number for the _previous_ input and `_` stores the number for the previous output. Read more about the [input and output caching system](https://ipython.readthedocs.io/en/stable/interactive/reference.html#input-caching-system) in the IPython documentation. Very useful indeed!\n",
    "\n",
    "Jupyter AI captures errors in another list, called `Err` and indexed the same as `In` and `Out`. That way you can refer to a specific error message using formatted strings with `{Err[i]}`, where `i` is the index of the input line that gave you the error."
   ]
  },
  {
   "cell_type": "markdown",
   "id": "df3f4800-ecf7-42b7-99d5-6d57b02aef95",
   "metadata": {},
   "source": [
    "# Learn more\n",
    "\n",
    "That's it for this lesson! Learn more about Jupyter AI by exploring the documentation and included [example notebooks](https://github.com/jupyterlab/jupyter-ai/tree/main/examples) in the repository, and by watching the talk from the PyData Seattle 2023 conference.\n",
    "\n",
    "Since Jupyter AI was just released in Summer of 2023, you can expect updates and more talks to appear online at a rapid pace. Enjoy your learning journey!"
   ]
  },
  {
   "cell_type": "code",
   "execution_count": 11,
   "id": "e873c1f9-3964-495b-bafc-bdeace8b2d61",
   "metadata": {},
   "outputs": [
    {
     "data": {
      "image/jpeg": "[encoded data removed]",
      "text/html": [
       "\n",
       "        <iframe\n",
       "            width=\"400\"\n",
       "            height=\"300\"\n",
       "            src=\"https://www.youtube.com/embed/T0rzH_KslKQ\"\n",
       "            frameborder=\"0\"\n",
       "            allowfullscreen\n",
       "            \n",
       "        ></iframe>\n",
       "        "
      ],
      "text/plain": [
       "<IPython.lib.display.YouTubeVideo at 0x7f80135c4f50>"
      ]
     },
     "execution_count": 11,
     "metadata": {},
     "output_type": "execute_result"
    }
   ],
   "source": [
    "# David Qiu - Jupyter AI — Bringing Generative AI to Jupyter | PyData Seattle 2023\n",
    "from IPython.display import YouTubeVideo\n",
    "YouTubeVideo('T0rzH_KslKQ')"
   ]
  },
  {
   "cell_type": "code",
   "execution_count": 2,
   "id": "ee40c4d5-e34b-4646-b86c-3eec5ca3120c",
   "metadata": {},
   "outputs": [
    {
     "data": {
      "text/html": [
       "<style>\n",
       "\n",
       "@font-face {\n",
       "    font-family: 'et-book';\n",
       "    src: url('https://cdnjs.cloudflare.com/ajax/libs/tufte-css/1.8.0/et-book/et-book-roman-line-figures/et-book-roman-line-figures.woff') format('woff2'),\n",
       "         url('https://cdnjs.cloudflare.com/ajax/libs/tufte-css/1.8.0/et-book/et-book-roman-line-figures/et-book-roman-line-figures.woff') format('woff');\n",
       "    font-weight: normal;\n",
       "    font-style: normal;\n",
       "}\n",
       "@font-face {\n",
       "    font-family: 'et-book';\n",
       "    src: url('https://cdnjs.cloudflare.com/ajax/libs/tufte-css/1.8.0/et-book/et-book-display-italic-old-style-figures/et-book-display-italic-old-style-figures.woff') format('woff');\n",
       "    font-weight: normal;\n",
       "    font-style: italic;\n",
       "}\n",
       "@font-face {\n",
       "    font-family: 'et-book';\n",
       "    src: url('https://cdnjs.cloudflare.com/ajax/libs/tufte-css/1.8.0/et-book/et-book-bold-line-figures/et-book-bold-line-figures.woff') format('woff');\n",
       "    font-weight: bold;\n",
       "    font-style: normal;\n",
       "}\n",
       "/* The various ET-Book fonts are on GitHub at: https://github.com/edwardtufte/et-book\n",
       "*/\n",
       "@font-face{\n",
       "    font-family: 'Source Code Pro';\n",
       "    font-weight: 400;\n",
       "    font-style: normal;\n",
       "    font-stretch: normal;\n",
       "    src: url('https://raw.githubusercontent.com/adobe-fonts/source-code-pro/release/WOFF2/OTF/SourceCodePro-Regular.otf.woff2') format('woff2'),\n",
       "         url('https://raw.githubusercontent.com/adobe-fonts/source-code-pro/release/WOFF/OTF/SourceCodePro-Regular.otf.woff') format('woff'),\n",
       "         url('https://raw.githubusercontent.com/adobe-fonts/source-code-pro/release/OTF/SourceCodePro-Regular.otf') format('opentype');\n",
       "}\n",
       "\n",
       "@font-face{\n",
       "    font-family: 'Source Sans';\n",
       "    font-weight: 400;\n",
       "    font-style: normal;\n",
       "    font-stretch: normal;\n",
       "    src: url('https://raw.githubusercontent.com/adobe-fonts/source-sans/release/WOFF2/OTF/SourceSans3-Regular.otf.woff2') format('woff2'),\n",
       "         url('https://raw.githubusercontent.com/adobe-fonts/source-sans/release/WOFF/OTF/SourceSans3-Regular.otf.woff') format('woff'),\n",
       "         url('https://raw.githubusercontent.com/adobe-fonts/source-sans/release/OTF/SourceSans3-Regular.otf') format('opentype');\n",
       "}\n",
       "\n",
       ":root {\n",
       "    --jp-content-line-height: 1.3;\n",
       "    --jp-content-font-scale-factor: 1.2;\n",
       "    --jp-content-font-size1: 20px; /* Base font size */\n",
       "    --jp-content-font-family: 'et-book', 'Palatino Linotype', Palatino, serif;\n",
       "} \n",
       "\n",
       ".jp-RenderedHTMLCommon {\n",
       "    line-height: 1.3 !important;\n",
       "    font-size: 20px !important;\n",
       "    font-family: 'et-book', 'Palatino Linotype', Palatino, serif;\n",
       "    padding-left: 10% !important;\n",
       "    padding-right: 20% !important;\n",
       "}\n",
       "\n",
       ".jp-CodeCell {\n",
       "    padding-left: 10% !important;\n",
       "    padding-right: 20% !important;\n",
       "}\n",
       "\n",
       ".jp-RawCell {\n",
       "    padding-left: 10% !important;\n",
       "    padding-right: 20% !important;\n",
       "}\n",
       "\n",
       "\n",
       "code {\n",
       "    font-size: 0.8em !important;\n",
       "    background-color: #f0f0f0 !important;\n",
       "}\n",
       "\n",
       "hr {\n",
       "    background: #000;\n",
       "    height: 1px;\n",
       "    border: 0px;\n",
       "} \n",
       "\n",
       "\n",
       "#notebook_panel { /* main background */\n",
       "    background: rgb(245,245,245);\n",
       "}\n",
       "\n",
       "div.cell { /* set cell width */\n",
       "    width: 800px;\n",
       "}\n",
       "\n",
       "div #notebook { /* centre the content */\n",
       "    background: #fff; /* white background for content */\n",
       "    width: 800px;\n",
       "    margin: auto;\n",
       "    padding-left: 0em;\n",
       "}\n",
       "\n",
       "#notebook li { /* More space between bullet points */\n",
       "margin-top:0.5em;\n",
       "}\n",
       "\n",
       "/* draw border around running cells */\n",
       "div.cell.border-box-sizing.code_cell.running { \n",
       "    border: 1px solid #111;\n",
       "}\n",
       "\n",
       "/* Put a solid color box around each cell and its output, visually linking them*/\n",
       "div.cell.code_cell {\n",
       "    background-color: rgb(256,256,256); \n",
       "    border-radius: 0px; \n",
       "    padding: 0.5em;\n",
       "    margin-left:1em;\n",
       "    margin-top: 1em;\n",
       "}\n",
       "\n",
       "\n",
       "div.text_cell_render{\n",
       "    font-family: 'Source Sans', sans-serif;\n",
       "    line-height: 140%;\n",
       "    font-size: 110%;\n",
       "    width:680px;\n",
       "    margin-left:auto;\n",
       "    margin-right:auto;\n",
       "}\n",
       "\n",
       "/* Formatting for header cells */\n",
       ".text_cell_render h1 {\n",
       "    /* font-family: 'Merriweather', serif; */\n",
       "    font-style:regular;\n",
       "    font-weight: bold;    \n",
       "    font-size: 250%;\n",
       "    line-height: 100%;\n",
       "    color: #004065;\n",
       "    margin-bottom: 1em;\n",
       "    margin-top: 0.5em;\n",
       "    display: block;\n",
       "}\t\n",
       ".text_cell_render h2 {\n",
       "    /* font-family: 'Merriweather', serif; */\n",
       "    font-weight: bold; \n",
       "    font-size: 180%;\n",
       "    line-height: 100%;\n",
       "    color: #0096d6;\n",
       "    margin-bottom: 0.5em;\n",
       "    margin-top: 0.5em;\n",
       "    display: block;\n",
       "}\t\n",
       "\n",
       ".text_cell_render h3 {\n",
       "    /* font-family: 'Merriweather', serif; */\n",
       "\tfont-size: 150%;\n",
       "    margin-top:12px;\n",
       "    margin-bottom: 3px;\n",
       "    font-style: regular;\n",
       "    color: #008367;\n",
       "}\n",
       "\n",
       ".text_cell_render h4 {    /*Use this for captions*/\n",
       "    font-family: 'et-book';\n",
       "    font-weight: 300; \n",
       "    font-size: 100%;\n",
       "    line-height: 120%;\n",
       "    text-align: left;\n",
       "    width:500px;\n",
       "    margin-top: 1em;\n",
       "    margin-bottom: 2em;\n",
       "    margin-left: 80pt;\n",
       "    font-style: italic;\n",
       "}\n",
       "\n",
       ".text_cell_render h5 {  /*Use this for small titles*/\n",
       "    font-family: 'Source Sans', sans-serif;\n",
       "    font-size: 130%;\n",
       "    color: #e31937;\n",
       "    margin-bottom: .5em;\n",
       "    margin-top: 1em;\n",
       "    display: block;\n",
       "}\n",
       "\n",
       ".text_cell_render h6 { /*use this for copyright note*/\n",
       "    font-family: 'Source Code Pro', sans-serif;\n",
       "    font-weight: 300;\n",
       "    font-size: 9pt;\n",
       "    line-height: 100%;\n",
       "    color: grey;\n",
       "    margin-bottom: 1px;\n",
       "    margin-top: 1px;\n",
       "}\n",
       "\n",
       "    .CodeMirror{\n",
       "            font-family: \"Source Code Pro\";\n",
       "\t\t\tfont-size: 100%;\n",
       "    }\n",
       "/*    .prompt{\n",
       "        display: None;\n",
       "    }*/\n",
       "\t\n",
       "    \n",
       "    .warning{\n",
       "        color: rgb( 240, 20, 20 )\n",
       "        }  \n",
       "</style>\n",
       "<script>\n",
       "    MathJax.Hub.Config({\n",
       "                        TeX: {\n",
       "                           extensions: [\"AMSmath.js\"], \n",
       "                           equationNumbers: { autoNumber: \"AMS\", useLabelIds: true}\n",
       "                           },\n",
       "                tex2jax: {\n",
       "                    inlineMath: [ ['$','$'], [\"\\\\(\",\"\\\\)\"] ],\n",
       "                    displayMath: [ ['$$','$$'], [\"\\\\[\",\"\\\\]\"] ]\n",
       "                },\n",
       "                displayAlign: 'center', // Change this to 'center' to center equations.\n",
       "                \"HTML-CSS\": {\n",
       "                    styles: {'.MathJax_Display': {\"margin\": 4}}\n",
       "                }\n",
       "        });\n",
       "</script>\n"
      ],
      "text/plain": [
       "<IPython.core.display.HTML object>"
      ]
     },
     "execution_count": 2,
     "metadata": {},
     "output_type": "execute_result"
    }
   ],
   "source": [
    "from IPython.core.display import HTML\n",
    "style_file = '../style/custom.css'\n",
    "HTML(open(style_file, \"r\").read())"
   ]
  }
 ],
 "metadata": {
  "kernelspec": {
   "display_name": "Python 3 (ipykernel)",
   "language": "python",
   "name": "python3"
  },
  "language_info": {
   "codemirror_mode": {
    "name": "ipython",
    "version": 3
   },
   "file_extension": ".py",
   "mimetype": "text/x-python",
   "name": "python",
   "nbconvert_exporter": "python",
   "pygments_lexer": "ipython3",
   "version": "3.11.4"
  }
 },
 "nbformat": 4,
 "nbformat_minor": 5
}
